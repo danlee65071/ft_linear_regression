{
 "cells": [
  {
   "cell_type": "code",
   "execution_count": 1,
   "id": "88303660",
   "metadata": {},
   "outputs": [],
   "source": [
    "import numpy as np\n",
    "import pandas as pd\n",
    "import matplotlib.pyplot as plt\n",
    "from sklearn.model_selection import train_test_split\n",
    "from sklearn.preprocessing import StandardScaler"
   ]
  },
  {
   "cell_type": "code",
   "execution_count": 2,
   "id": "14b37a93",
   "metadata": {},
   "outputs": [],
   "source": [
    "dt = pd.read_csv('data.csv')"
   ]
  },
  {
   "cell_type": "code",
   "execution_count": 3,
   "id": "c071240b",
   "metadata": {},
   "outputs": [
    {
     "data": {
      "text/plain": "       km  price\n0  240000   3650\n1  139800   3800\n2  150500   4400\n3  185530   4450\n4  176000   5250",
      "text/html": "<div>\n<style scoped>\n    .dataframe tbody tr th:only-of-type {\n        vertical-align: middle;\n    }\n\n    .dataframe tbody tr th {\n        vertical-align: top;\n    }\n\n    .dataframe thead th {\n        text-align: right;\n    }\n</style>\n<table border=\"1\" class=\"dataframe\">\n  <thead>\n    <tr style=\"text-align: right;\">\n      <th></th>\n      <th>km</th>\n      <th>price</th>\n    </tr>\n  </thead>\n  <tbody>\n    <tr>\n      <th>0</th>\n      <td>240000</td>\n      <td>3650</td>\n    </tr>\n    <tr>\n      <th>1</th>\n      <td>139800</td>\n      <td>3800</td>\n    </tr>\n    <tr>\n      <th>2</th>\n      <td>150500</td>\n      <td>4400</td>\n    </tr>\n    <tr>\n      <th>3</th>\n      <td>185530</td>\n      <td>4450</td>\n    </tr>\n    <tr>\n      <th>4</th>\n      <td>176000</td>\n      <td>5250</td>\n    </tr>\n  </tbody>\n</table>\n</div>"
     },
     "execution_count": 3,
     "metadata": {},
     "output_type": "execute_result"
    }
   ],
   "source": [
    "dt.head()"
   ]
  },
  {
   "cell_type": "code",
   "execution_count": 4,
   "id": "4d3ea1ab",
   "metadata": {},
   "outputs": [
    {
     "data": {
      "text/plain": "<AxesSubplot:title={'center':'data'}, xlabel='km', ylabel='price'>"
     },
     "execution_count": 4,
     "metadata": {},
     "output_type": "execute_result"
    },
    {
     "data": {
      "text/plain": "<Figure size 432x288 with 1 Axes>",
      "image/png": "[encoded data removed]"
     },
     "metadata": {
      "needs_background": "light"
     },
     "output_type": "display_data"
    }
   ],
   "source": [
    "dt.plot(kind='scatter', x='km', y='price', grid=True, title='data')"
   ]
  },
  {
   "cell_type": "code",
   "execution_count": 5,
   "id": "5a29136c",
   "metadata": {
    "scrolled": true
   },
   "outputs": [
    {
     "name": "stdout",
     "output_type": "stream",
     "text": [
      "<class 'pandas.core.frame.DataFrame'>\n",
      "RangeIndex: 24 entries, 0 to 23\n",
      "Data columns (total 2 columns):\n",
      " #   Column  Non-Null Count  Dtype\n",
      "---  ------  --------------  -----\n",
      " 0   km      24 non-null     int64\n",
      " 1   price   24 non-null     int64\n",
      "dtypes: int64(2)\n",
      "memory usage: 512.0 bytes\n"
     ]
    }
   ],
   "source": [
    "dt.info()"
   ]
  },
  {
   "cell_type": "code",
   "execution_count": 6,
   "id": "69eea770",
   "metadata": {},
   "outputs": [
    {
     "data": {
      "text/plain": "                  km        price\ncount      24.000000    24.000000\nmean   101066.250000  6331.833333\nstd     52674.245606  1319.654193\nmin     22899.000000  3650.000000\n25%     65020.500000  5687.500000\n50%     83014.500000  6495.000000\n75%    140975.000000  7115.000000\nmax    240000.000000  8290.000000",
      "text/html": "<div>\n<style scoped>\n    .dataframe tbody tr th:only-of-type {\n        vertical-align: middle;\n    }\n\n    .dataframe tbody tr th {\n        vertical-align: top;\n    }\n\n    .dataframe thead th {\n        text-align: right;\n    }\n</style>\n<table border=\"1\" class=\"dataframe\">\n  <thead>\n    <tr style=\"text-align: right;\">\n      <th></th>\n      <th>km</th>\n      <th>price</th>\n    </tr>\n  </thead>\n  <tbody>\n    <tr>\n      <th>count</th>\n      <td>24.000000</td>\n      <td>24.000000</td>\n    </tr>\n    <tr>\n      <th>mean</th>\n      <td>101066.250000</td>\n      <td>6331.833333</td>\n    </tr>\n    <tr>\n      <th>std</th>\n      <td>52674.245606</td>\n      <td>1319.654193</td>\n    </tr>\n    <tr>\n      <th>min</th>\n      <td>22899.000000</td>\n      <td>3650.000000</td>\n    </tr>\n    <tr>\n      <th>25%</th>\n      <td>65020.500000</td>\n      <td>5687.500000</td>\n    </tr>\n    <tr>\n      <th>50%</th>\n      <td>83014.500000</td>\n      <td>6495.000000</td>\n    </tr>\n    <tr>\n      <th>75%</th>\n      <td>140975.000000</td>\n      <td>7115.000000</td>\n    </tr>\n    <tr>\n      <th>max</th>\n      <td>240000.000000</td>\n      <td>8290.000000</td>\n    </tr>\n  </tbody>\n</table>\n</div>"
     },
     "execution_count": 6,
     "metadata": {},
     "output_type": "execute_result"
    }
   ],
   "source": [
    "dt.describe()"
   ]
  },
  {
   "cell_type": "code",
   "execution_count": 7,
   "id": "e68045f3",
   "metadata": {},
   "outputs": [],
   "source": [
    "class FtLinearRegression:\n",
    "    def __init__(self):\n",
    "        self.theta = None\n",
    "    \n",
    "    def fit(self, X, y, n_iterations=1000, learning_rate=0.1):\n",
    "        m = X.shape[0]\n",
    "        X_intercept = X.copy()\n",
    "        X_intercept = np.hstack((np.ones((m, 1)), X_intercept))\n",
    "        self.theta = np.zeros((X_intercept.shape[1], 1))\n",
    "        for iteration in range(n_iterations):\n",
    "            gradients = (2 / m) * X_intercept.T @ (X_intercept @ self.theta - y)\n",
    "            self.theta -= learning_rate * gradients\n",
    "        print(self.theta)\n",
    "    \n",
    "    def predict(self, X):\n",
    "        m = X.shape[0]\n",
    "        X_intercept = X.copy()\n",
    "        X_intercept = np.hstack((np.ones((m, 1)), X_intercept))\n",
    "        return X_intercept @ self.theta\n",
    "    \n",
    "    def score(self, X, y):\n",
    "        y_pred = self.predict(X)\n",
    "        ss_res = ((y - y_pred) ** 2).sum()\n",
    "        ss_tot = ((y - y.mean()) ** 2).sum()\n",
    "        return 1 - ss_res / ss_tot"
   ]
  },
  {
   "cell_type": "code",
   "execution_count": 8,
   "id": "f2918147",
   "metadata": {},
   "outputs": [],
   "source": [
    "X = dt['km'].to_numpy().reshape(-1, 1)\n",
    "y = dt['price'].to_numpy().reshape(-1, 1)"
   ]
  },
  {
   "cell_type": "code",
   "execution_count": 9,
   "id": "9486cf61",
   "metadata": {},
   "outputs": [],
   "source": [
    "X_train, X_test, y_train, y_test = train_test_split(X, y, test_size=0.33, random_state=42)"
   ]
  },
  {
   "cell_type": "code",
   "execution_count": 10,
   "id": "13334146",
   "metadata": {},
   "outputs": [],
   "source": [
    "X_train = StandardScaler().fit_transform(X_train)"
   ]
  },
  {
   "cell_type": "code",
   "execution_count": 11,
   "id": "e6aad214",
   "metadata": {},
   "outputs": [
    {
     "name": "stdout",
     "output_type": "stream",
     "text": [
      "[[ 6545.9375    ]\n",
      " [-1061.50194225]]\n"
     ]
    }
   ],
   "source": [
    "l_model = FtLinearRegression()\n",
    "l_model.fit(X_train, y_train)"
   ]
  },
  {
   "cell_type": "code",
   "execution_count": 12,
   "id": "bfced635",
   "metadata": {},
   "outputs": [
    {
     "data": {
      "text/plain": "<Figure size 432x288 with 1 Axes>",
      "image/png": "[encoded data removed]"
     },
     "metadata": {
      "needs_background": "light"
     },
     "output_type": "display_data"
    },
    {
     "name": "stdout",
     "output_type": "stream",
     "text": [
      "0.7605885917636953\n"
     ]
    }
   ],
   "source": [
    "y_train_res = l_model.predict(X_train)\n",
    "plt.plot(X_train, y_train_res)\n",
    "plt.scatter(X_train, y_train)\n",
    "plt.grid()\n",
    "plt.xlabel('X')\n",
    "plt.ylabel('y')\n",
    "plt.title('train')\n",
    "plt.show()\n",
    "print(l_model.score(X_train, y_train))"
   ]
  },
  {
   "cell_type": "code",
   "execution_count": 13,
   "id": "96221531",
   "metadata": {
    "pycharm": {
     "name": "#%%\n"
    }
   },
   "outputs": [
    {
     "data": {
      "text/plain": "<Figure size 432x288 with 1 Axes>",
      "image/png": "[encoded data removed]"
     },
     "metadata": {
      "needs_background": "light"
     },
     "output_type": "display_data"
    },
    {
     "name": "stdout",
     "output_type": "stream",
     "text": [
      "0.47695512161632936\n"
     ]
    }
   ],
   "source": [
    "scaler = StandardScaler()\n",
    "X_test = scaler.fit_transform(X_test)\n",
    "y_test_res = l_model.predict(X_test)\n",
    "plt.plot(X_test, y_test_res)\n",
    "plt.scatter(X_test, y_test)\n",
    "plt.grid()\n",
    "plt.xlabel('X')\n",
    "plt.ylabel('y')\n",
    "plt.title('test')\n",
    "plt.show()\n",
    "print(l_model.score(X_test, y_test))"
   ]
  },
  {
   "cell_type": "code",
   "execution_count": null,
   "outputs": [],
   "source": [],
   "metadata": {
    "collapsed": false,
    "pycharm": {
     "name": "#%%\n"
    }
   }
  }
 ],
 "metadata": {
  "kernelspec": {
   "display_name": "Python 3",
   "language": "python",
   "name": "python3"
  },
  "language_info": {
   "codemirror_mode": {
    "name": "ipython",
    "version": 3
   },
   "file_extension": ".py",
   "mimetype": "text/x-python",
   "name": "python",
   "nbconvert_exporter": "python",
   "pygments_lexer": "ipython3",
   "version": "3.8.8"
  }
 },
 "nbformat": 4,
 "nbformat_minor": 5
}